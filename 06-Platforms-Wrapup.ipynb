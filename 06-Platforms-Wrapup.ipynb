{
 "cells": [
  {
   "cell_type": "markdown",
   "metadata": {},
   "source": [
    "# Enterprise Model Deployment Challenges\n",
    "\n",
    "Once we have a model and a runtime, we can start to look at the bigger picture.\n",
    "\n",
    "__First, we have core enterprise deployment concerns:__\n",
    "* Easily deploying the model as a service\n",
    "* Scaling / performance / SLA\n",
    "* Basic management, monitoring, network ops\n",
    "\n",
    "__Next, we have have higher-level concerns to address:__\n",
    "* Model versioning\n",
    "* Updating and \"discrete\" online learning\n",
    "* Rollout / traffic routing / model performance assessment\n",
    "* Rollback\n",
    "* A/B testing, multi-armed bandit testing\n",
    "* Compliance / decision auditing, illegal biases\n",
    "* Model drift\n",
    "* Adversarial examples / security / robustness\n",
    "  * https://ai.googleblog.com/2018/09/introducing-unrestricted-adversarial.html\n",
    "* Information leakage\n",
    "  * https://www.theregister.co.uk/AMP/2018/03/02/secrets_fed_into_ai_models_as_training_data_can_be_stolen\n",
    "  * https://arxiv.org/abs/1802.08232"
   ]
  },
  {
   "cell_type": "markdown",
   "metadata": {},
   "source": [
    "## Deployment Patterns\n",
    "\n",
    "__The Bad News__\n",
    "\n",
    "There is no simple, standard, open solution that addresses all of these concerns\n",
    "\n",
    "__The Good News__\n",
    "\n",
    "There are lot more choices today than just two years ago, and the \"rise\" of ML/AI has meant a lot more attention across the industry recently\n",
    "\n",
    "We'll tackle the first, easier list of concerns, and then consider options that help us with the second list."
   ]
  },
  {
   "cell_type": "markdown",
   "metadata": {},
   "source": [
    "### Containerization...\n",
    "\n",
    "May not be the answer to everything, but it helps quite a bit with the core deployment task.\n",
    "\n",
    "Why? ML model inference tends to be \n",
    "* stateless\n",
    "* inexpensive (there are some exceptions)\n",
    "* easy on the network (simple protocols, light traffic, layer 7 routable, etc.)\n",
    "* idempotent\n",
    "\n",
    "In other words, a container hosting a ML inference app is close to the text book \"tennis-without-a-net\" case for containerized deployment.\n",
    "\n",
    "Commercial clouds provide de facto containerization\n",
    "* AWS Lambda is not an uncommon way to deploy a model (for better or worse)\n",
    "  * e.g., https://github.com/alecrubin/pytorch-serverless\n",
    "* Google App Engine servlet host is effectively containerized\n",
    "  * DMG PFA interactive demos are served via GAE\n",
    "* etc."
   ]
  },
  {
   "cell_type": "markdown",
   "metadata": {},
   "source": [
    "<img src=\"images/docker.png\" width=400 align=left>"
   ]
  },
  {
   "cell_type": "markdown",
   "metadata": {},
   "source": [
    "*For on-prem deployments, hybrid on-prem-and-cloud, or cloud deployments that need more standard and less lock-in, __Docker__ is the de facto standard containerization tech.*\n",
    "\n",
    "So ... all of the runtimes should have a vetted, documented, ready-to-run Dockerfile and/or image ... right? Sadly, no.\n",
    "\n",
    "Although we don't always have a Dockerfile to start with, there's a bright side or two:\n",
    "* Most of the components are there, so assembling a Docker image is straightforward\n",
    "* Enterprises may prefer to build and maintain their own images anyway\n",
    "  * Security / auditing\n",
    "  * Customization\n",
    "  * Recovery / BCP, etc.\n",
    "  \n",
    "## Model Deployment Platforms - Recap\n",
    "\n",
    "### Past\n",
    "\n",
    "In the commercial world, vendors that offer modeling tooling typically offer a scoring platform as well.\n",
    "\n",
    "The vendors include SAS, FICO, Minitab, KNIME, Open Data Group, and many others. \n",
    "\n",
    "As with traditional enterprise software, choosing and using one is a complex decision that takes into account...\n",
    "* functionality\n",
    "* technology requirements\n",
    "* cost/value\n",
    "* support/maintainability\n",
    "* staff skillset\n",
    "* business unit strategies\n",
    "* etc.\n",
    "\n",
    "<img src=\"images/sas.png\" align=left width=600>"
   ]
  },
  {
   "cell_type": "markdown",
   "metadata": {},
   "source": [
    "### Present\n",
    "\n",
    "Today there is a lot of pressure on the traditional ecosystem from\n",
    "\n",
    "* Open source tooling like Python, R, SparkML, XGBoost, etc.\n",
    "    * which can handle bigger volumes of data\n",
    "    * more varieties models\n",
    "    * innovative worklows\n",
    "\n",
    "\n",
    "* A generation of data scientists \n",
    "  * who know and use those tools, data, and workflows\n",
    "  * are less familiar with traditional tooling\n",
    "  * want to integrate data science processes with visualization tools, mobile applications, etc.\n",
    "\n",
    "#### Case Study: Michelangelo\n",
    "\n",
    "__Some firms have built their own ML deployment ecosystems from the ground up to meet these needs.__\n",
    "\n",
    "That approach is not for everyone, but looking at an example case study can help us get perspective on when we may want in a modern but more off-the-shelf solution.\n",
    "\n",
    "https://eng.uber.com/michelangelo/\n",
    "\n",
    "<img src=\"images/uber.png\" width=800 align=left>"
   ]
  },
  {
   "cell_type": "markdown",
   "metadata": {},
   "source": [
    "*Michelangelo enables internal teams to seamlessly build, deploy, and operate machine learning solutions at Uber’s scale. It is designed to cover the end-to-end ML workflow: manage data, train, evaluate, and deploy models, make predictions, and monitor predictions. The system also supports traditional ML models, time series forecasting, and deep learning.*\n",
    "\n",
    "##### More to look at \n",
    "\n",
    "* Airbnb's \"Bighead\" platform: https://databricks.com/session/bighead-airbnbs-end-to-end-machine-learning-platform\n",
    "* Facebook FBLearner  https://code.fb.com/core-data/introducing-fblearner-flow-facebook-s-ai-backbone/\n",
    "\n",
    "### (Near) Future\n",
    "\n",
    "__The traditional single-vendor analytics platform + server is not flexible enough. But most companies have neither the desire nor the ability to build an end-to-end ML platform like Uber and Airbnb have done.__\n",
    "\n",
    "The solutions slowly gaining traction are end-to-end free/open-source platforms built on open technologies, and cloud-based solutions which may not be open but provide ease of use.\n",
    "\n",
    "#### Cloud-Native vs. Cloud-or-Local\n",
    "\n",
    "__Cloud, Open-Source Compatible__\n",
    "* Sagemaker, Model Server for MXNet\n",
    "* Azure, Azure ML + Azure ML Server\n",
    "* Google Cloud ML\n",
    "* more...\n",
    "\n",
    "<img src=\"images/kubeflow.png\" align=left width=200>"
   ]
  },
  {
   "cell_type": "markdown",
   "metadata": {},
   "source": [
    "__On-Prem or Cloud, Open-Source ... Partial Solutions__\n",
    "* Kubeflow\n",
    "* Seldon Core\n",
    "* MLflow\n",
    "* Google/TFX\n",
    "* GraphPipe (Oracle OSS)\n",
    "* Pachyderm\n",
    "* MIT/CSAIL ModelDB https://mitdbg.github.io/modeldb/\n",
    "* Hopsworks Feature Store\n",
    "* Google Cloud / GO-JEK Feast (feature store) https://github.com/gojek/feast\n",
    "* Polyaxon\n",
    "* Pipeline.ai\n",
    "\n",
    "<img src=\"images/mlflow.png\" align=left width=200>\n",
    "\n"
   ]
  },
  {
   "cell_type": "markdown",
   "metadata": {},
   "source": [
    "__And dozens of commercial products__ some with free tiers, others sold in the traditional enterprise software manner. Commercial tools range from industry giants like Anaconda Enterprise and Domino Data Lab to literally dozens of startups.\n",
    "\n",
    "Since we're focusing on open source, we won't go into detail on the proprietary tools.\n",
    "\n",
    "__But the takeaway for OSS and proprietary alike is that no extant tool is perfect.__\n",
    "\n",
    "As the industry coalesces around a common set of goals, there is reason to hope that both the open and commercial tools with distill to a smaller set of options. And, in the open-source world, that will allow more focused contributions and a faster path to maturity for a few great tools in 2020 and beyond."
   ]
  },
  {
   "cell_type": "code",
   "execution_count": null,
   "metadata": {},
   "outputs": [],
   "source": []
  }
 ],
 "metadata": {
  "kernelspec": {
   "display_name": "Python 3",
   "language": "python",
   "name": "python3"
  },
  "language_info": {
   "codemirror_mode": {
    "name": "ipython",
    "version": 3
   },
   "file_extension": ".py",
   "mimetype": "text/x-python",
   "name": "python",
   "nbconvert_exporter": "python",
   "pygments_lexer": "ipython3",
   "version": "3.7.4"
  }
 },
 "nbformat": 4,
 "nbformat_minor": 4
}

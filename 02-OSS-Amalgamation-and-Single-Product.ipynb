{
 "cells": [
  {
   "cell_type": "markdown",
   "metadata": {},
   "source": [
    "# Open-Source Amalgamation and Single-Product Formats\n",
    "\n",
    "## Amalgamation\n",
    "\n",
    "The simplest form of export is \"amalgamation\" ... in which case the model and all necessary code to run are emitted as one big chunk.\n",
    "\n",
    "In some cases, it's a single source code file that can be compiled on nearly any platform as a standalone program.\n",
    "  * Classic amalgamation: MXNet + model code https://mxnet.incubator.apache.org/faq/smart_device.html#amalgamation-making-the-whole-system-a-single-file\n",
    "\n",
    "In other cases, it's a chunk of consumable IR code that can be consumed in a common runtime:\n",
    "  * H2O POJO export https://github.com/h2oai/h2o-3/blob/master/h2o-docs/src/product/productionizing.rst#pojo-quick-start\n",
    "  * \"Python Lambda Format\" -- i.e., any single-function-call wrapper around a heap of Python + Python-compatible dependecies\n",
    "    * *I'm not making this up* (not to say there's no role for this approach, but unlikely in the enterprise ML inference setting)\n",
    "    * Examples\n",
    "      * AWS Lambda, Google Cloud Functions, Azure Functions\n",
    "      * https://fission.io/\n",
    "      * http://fnproject.io/\n",
    "      * https://github.com/kubeless/kubeless\n",
    "      * http://openwhisk.incubator.apache.org/\n",
    "      * etc.\n",
    "    \n",
    "And sometimes ... it's a coder implementing a model by hand and compiling it! (For simple, popular models, like linear/logistic regression, it's pretty easy once you have the model params.)"
   ]
  },
  {
   "cell_type": "markdown",
   "metadata": {},
   "source": [
    "### What Does this Look Like? Let's Try It...\n",
    "\n",
    "First, we need a model. So we'll train a quick linear regression on R's Diamonds dataset:"
   ]
  },
  {
   "cell_type": "code",
   "execution_count": null,
   "metadata": {},
   "outputs": [],
   "source": [
    "import pandas as pd\n",
    "\n",
    "data = pd.read_csv('data/diamonds.csv')\n",
    "\n",
    "X = data.carat\n",
    "y = data.price"
   ]
  },
  {
   "cell_type": "code",
   "execution_count": null,
   "metadata": {},
   "outputs": [],
   "source": [
    "from sklearn.linear_model import LinearRegression\n",
    "\n",
    "model = LinearRegression().fit(X.values.reshape(-1,1), y)"
   ]
  },
  {
   "cell_type": "markdown",
   "metadata": {},
   "source": [
    "This is a basic model for predicting price (in dollars) from weight (in carats).\n",
    "\n",
    "The params are:"
   ]
  },
  {
   "cell_type": "code",
   "execution_count": null,
   "metadata": {},
   "outputs": [],
   "source": [
    "model.coef_, model.intercept_"
   ]
  },
  {
   "cell_type": "markdown",
   "metadata": {},
   "source": [
    "We can create a standalone (\"amalgamated\") version of this model using [SKompiler](https://pypi.org/project/SKompiler/)"
   ]
  },
  {
   "cell_type": "code",
   "execution_count": null,
   "metadata": {},
   "outputs": [],
   "source": [
    "from skompiler import skompile\n",
    "\n",
    "expr = skompile(model.predict)\n",
    "expr.to('sqlalchemy/postgresql')"
   ]
  },
  {
   "cell_type": "code",
   "execution_count": null,
   "metadata": {},
   "outputs": [],
   "source": [
    "expr.to('sympy/c')"
   ]
  },
  {
   "cell_type": "markdown",
   "metadata": {},
   "source": [
    "Here's a quick example with a decision tree. First, we'll create the model."
   ]
  },
  {
   "cell_type": "code",
   "execution_count": null,
   "metadata": {},
   "outputs": [],
   "source": [
    "from sklearn.tree import DecisionTreeRegressor\n",
    "\n",
    "model_tree = DecisionTreeRegressor(max_depth=4).fit(X.values.reshape(-1,1), y)"
   ]
  },
  {
   "cell_type": "code",
   "execution_count": null,
   "metadata": {},
   "outputs": [],
   "source": [
    "for line in skompile(model_tree.predict).to('sympy/c').split('\\n'):\n",
    "    print(line)"
   ]
  },
  {
   "cell_type": "markdown",
   "metadata": {},
   "source": [
    "#### Pros and Cons: Amalgamation\n",
    "\n",
    "Pros:\n",
    "* Easy-to-understand concept\n",
    "* Fairly portable\n",
    "* Can be compact and performant\n",
    "  * May be a good choice for extremely constrained embedded environments\n",
    "\n",
    "Cons:\n",
    "* Not interoperable with other high-level environments\n",
    "* Violates separation of code (logic) from data (parameters)\n",
    "* May not fit in well with enterprise manageability and operations needs"
   ]
  },
  {
   "cell_type": "markdown",
   "metadata": {},
   "source": [
    "## Open-Source Single-Product Format(s)\n",
    "\n",
    "I.e., a format which serves a specific product ecosystem, but is not intended to interoperate with other systems nor serve as a \"standard\"\n",
    "\n",
    "*Examples:*\n",
    "\n",
    "__SparkML + MLeap__\n",
    "  * MLeap supports Spark, some scikit-learn models and some TensorFlow models\n",
    "  * Represents models in a \"MLeap Bundle\"\n",
    "  * MLeap runtime is a JAR that can run in any Java application (or by with a lightweight scoring wrapper provided by MLeap)\n",
    "\n",
    "__TensorFlow + TensorFlow Serving__\n",
    "  * TensorFlow models (created directly with TensorFlow or with Keras) serialize to a TF-specific protocol buffer representation\n",
    "  * TensorFlow Serving loads the latest version of a model\n",
    "    * TF Serving exposes a gRPC service and a REST endpoint\n",
    "    \n",
    "Within the intended ecosystem, we can easily explort and use a model, but we don't get portability across tools/ecosystems."
   ]
  },
  {
   "cell_type": "code",
   "execution_count": null,
   "metadata": {},
   "outputs": [],
   "source": []
  }
 ],
 "metadata": {
  "kernelspec": {
   "display_name": "Python 3",
   "language": "python",
   "name": "python3"
  },
  "language_info": {
   "codemirror_mode": {
    "name": "ipython",
    "version": 3
   },
   "file_extension": ".py",
   "mimetype": "text/x-python",
   "name": "python",
   "nbconvert_exporter": "python",
   "pygments_lexer": "ipython3",
   "version": "3.7.4"
  }
 },
 "nbformat": 4,
 "nbformat_minor": 4
}

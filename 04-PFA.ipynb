{
 "cells": [
  {
   "cell_type": "markdown",
   "metadata": {},
   "source": [
    "# Next-Gen Standard Format: PFA\n",
    "\n",
    "<img src=\"images/pfa.png\" align='left'>"
   ]
  },
  {
   "cell_type": "markdown",
   "metadata": {},
   "source": [
    "## PFA (Portable Format for Analytics) is a Modern Replacement for PMML\n",
    "\n",
    "__\"As data analyses mature, they must be hardened — they must have fewer dependencies, a more maintainable structure, and they must be robust against errors.\" - DMG__\n",
    "\n",
    "PFA, created in 2015, is intended to improve upon PMML.\n",
    "\n",
    "From http://dmg.org/pfa/docs/motivation/:\n",
    "\n",
    "*Tools such as Hadoop and Storm provide automated data pipelines, separating the data flow from the functions that are performed on data (mappers and reducers in Hadoop, spouts and bolts in Storm). Ordinarily, these functions are written in code that has access to the pipeline internals, the host operating system, the remote filesystem, the network, etc. However, all they should do is math.*\n",
    "\n",
    "*PFA completes the abstraction by encapsulating these functions as PFA documents. From the point of view of the pipeline system, the documents are configuration files that may be loaded or replaced independently of the pipeline code.*\n",
    "\n",
    "*This separation of concerns allows the data analysis to evolve independently of the pipeline. Since scoring engines written in PFA are not capable of accessing or manipulating their environment, they cannot jeopardize the production system. Data analysts can focus on the mathematical correctness of their algorithms and security reviews are only needed when the pipeline itself changes.*\n",
    "\n",
    "*This decoupling is important because statistical models usually change more quickly than pipeline frameworks. Model details are often tweaked in response to discoveries about the data and models frequently need to be refreshed with new training samples.*"
   ]
  },
  {
   "cell_type": "markdown",
   "metadata": {},
   "source": [
    "<img src=\"images/pfa-line.png\" width=800>\n",
    "\n",
    "(summarized from DMG)\n",
    "\n",
    "### Overview of PFA capabilities\n",
    "\n",
    "PFA flexibility:\n",
    "* Control structures, such as conditionals, loops, and user-defined functions\n",
    "* Entirely expressed within JSON, and can therefore be easily generated and manipulated by other programs\n",
    "* Fine-grained function library supporting extensibility callbacks\n",
    "\n",
    "The following contribute to PFA’s safety:\n",
    "* Strict numerical compatibility: the same PFA document and the same input results in the same output, regardless of platform.\n",
    "* Spec only defines functions that transform data. I/O is all controlled by the host system.\n",
    "* Type system that can be statically checked. ... This system has a type-safe null and PFA only performs type-safe casting, which ensure that missing data never cause run-time errors.\n",
    "* The callbacks that generalize PFA’s statistical models are not first-class functions\n",
    "  * The set of functions that a PFA document might call can be predicted before it runs\n",
    "  * A PFA host may choose to only allow certain functions."
   ]
  },
  {
   "cell_type": "markdown",
   "metadata": {},
   "source": [
    "__Example__\n",
    "\n",
    "Here are some data records:\n",
    "\n",
    "<img src=\"images/pfa-doc-1.png\" width=600>\n",
    "\n",
    "And a PFA document which returns the square-root of the sum of the squares of a record's x, y, and z values:\n",
    "\n",
    "<img src=\"images/pfa-doc-2.png\" width=600>"
   ]
  },
  {
   "cell_type": "markdown",
   "metadata": {},
   "source": [
    "The above example -- along with numerous other tutorials -- can be viewed, *modified*, and run live online at http://dmg.org/pfa/docs/tutorial2/ and other dmg.org pages.\n",
    "\n",
    "Although it may not be obvious from this small example, PFA is effectively a programming language, albeit a restricted one, and as such can express complex transformations and aggregations of data. A compliant PFA scoring system must implement the full spec properly: http://dmg.org/pfa/docs/library/\n",
    "\n",
    "The PFA document is a serialized representation or description of a scoring engine, of which one or more instances can be created by a runtime.\n",
    "\n",
    "The Avro, JSON, and YAML representations are interchangeable, with the JSON and YAML working better for humans and text tools, while the Avro is better suited to performance, type checking, etc. That said, it is still intended to be a machine-generated and machine-consumed document."
   ]
  },
  {
   "cell_type": "markdown",
   "metadata": {},
   "source": [
    "### Let's make a PFA version of our Diamonds model"
   ]
  },
  {
   "cell_type": "code",
   "execution_count": null,
   "metadata": {},
   "outputs": [],
   "source": [
    "import pandas as pd\n",
    "from sklearn.linear_model import LinearRegression\n",
    "\n",
    "data = pd.read_csv('data/diamonds.csv')\n",
    "X = data.carat\n",
    "y = data.price\n",
    "model = LinearRegression().fit(X.values.reshape(-1,1), y)"
   ]
  },
  {
   "cell_type": "code",
   "execution_count": null,
   "metadata": {},
   "outputs": [],
   "source": [
    "from skompiler import skompile\n",
    "\n",
    "expr = skompile(model.predict)\n",
    "\n",
    "for line in expr.to('pfa/yaml').split('\\n'):\n",
    "    print(line)"
   ]
  },
  {
   "cell_type": "markdown",
   "metadata": {},
   "source": [
    "#### Try Scoring Some Records Online\n",
    "\n",
    "1. Go to: http://dmg.org/pfa/docs/tutorial1/ (in another browser tab)\n",
    "2. Copy the PFA engine document above, and paste it in the block marked \"PFA Document (YAML)\"\n",
    "3. Try scoring with the \"Run\" button\n",
    "4. You'll notice that you get an Avro-related type error\n",
    "5. Format your scoring records, one per line, in JSON, using the input name (\"x\") as the name for the carat weight.\n",
    "    * For example, `{ \"x\" : [1.0] }` to represent a 1-carat diamond"
   ]
  },
  {
   "cell_type": "markdown",
   "metadata": {},
   "source": [
    "Hadrian (https://github.com/opendatagroup/hadrian) is a permissive OSS implementation of a compliant PFA runtime. You can use the source, or use the pre-built `.war` file to create a JVM-based scoring server.\n",
    "\n",
    "If you want to build your own Python scoring server for PFA, see the Titus installation instructions here: https://github.com/opendatagroup/hadrian/wiki/Installation#case-4-you-want-to-install-titus-in-python"
   ]
  },
  {
   "cell_type": "markdown",
   "metadata": {},
   "source": [
    "#### Pros and Cons: PFA\n",
    "\n",
    "Pros:\n",
    "* Flexible, extensible\n",
    "* Permissive open-source scoring engine and some OSS export support (SKompile, Aardpfark)\n",
    "* Addresses many of the shortcomings of PMML\n",
    "\n",
    "Cons:\n",
    "* Limited OSS export support\n",
    "* Timing appears to have been \"unlucky\"\n",
    "    * Perhaps the project is too new?\n",
    "    * Or other, more \"modern\" open initiatives have overtaken the DMG and swept this approach away\n",
    "* In any case, community has not embraced PFA as of late 2019"
   ]
  },
  {
   "cell_type": "code",
   "execution_count": null,
   "metadata": {},
   "outputs": [],
   "source": []
  }
 ],
 "metadata": {
  "kernelspec": {
   "display_name": "Python 3",
   "language": "python",
   "name": "python3"
  },
  "language_info": {
   "codemirror_mode": {
    "name": "ipython",
    "version": 3
   },
   "file_extension": ".py",
   "mimetype": "text/x-python",
   "name": "python",
   "nbconvert_exporter": "python",
   "pygments_lexer": "ipython3",
   "version": "3.7.4"
  }
 },
 "nbformat": 4,
 "nbformat_minor": 4
}

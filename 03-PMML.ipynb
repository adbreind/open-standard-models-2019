{
 "cells": [
  {
   "cell_type": "markdown",
   "metadata": {},
   "source": [
    "# Existing Standard Format: PMML\n",
    "\n",
    "<img src=\"images/PMML_Logo.png\" align='left'>"
   ]
  },
  {
   "cell_type": "markdown",
   "metadata": {},
   "source": [
    "## What is PMML?\n",
    "\n",
    "PMML is a Data Mining Group (http://dmg.org/dmg-members.html) standard that has existed and evolved for over 20 years, and is used widely throughout the world. \n",
    "\n",
    "Formally, it's a XML dialect that describes a model and/or pipeline."
   ]
  },
  {
   "cell_type": "markdown",
   "metadata": {},
   "source": [
    "## Example\n",
    "\n",
    "Here is an example of a logistic regression classifier trained using R on the Iris dataset:\n",
    "\n",
    "(http://dmg.org/pmml/pmml_examples/rattle_pmml_examples/IrisMultinomReg.xml)\n",
    "\n",
    "<img src=\"images/pmml_example.png\">"
   ]
  },
  {
   "cell_type": "markdown",
   "metadata": {},
   "source": [
    "## Where do we get a PMML model?\n",
    "\n",
    "A partial list of products supporting PMML is at http://dmg.org/pmml/products.html\n",
    "\n",
    "Focusing on the *producing PMML* side, we can see there are a lot of products that can create PMML, even if most of them are commercial or have effectively commercial licensing schemes (e.g. JPMML).\n",
    "\n",
    "In the open-source world (again, excluding AGPL code like JPMML), we have\n",
    "* R -- strongest open-source export support\n",
    "* Spark -- very limited support: the listed models are only supported under the *old/deprecated* RDD MLlib API\n",
    "  * There is work in progress to add PMML export to the new API but it has just begun and may not make progress\n",
    "* Python \n",
    "  * Historically, aside from the wrapper around the above-mentioned JPMML, there is little support\n",
    "      * e.g., https://pypi.org/project/scikit2pmml/ from https://github.com/vaclavcadek/scikit2pmml\n",
    "  * Recently, SoftwareAG has created Nyoka, a permissively licensed Python-to-PMML export tool\n",
    "      * Source https://github.com/nyoka-pmml/nyoka\n",
    "      * Docs at https://nyoka-pmml.github.io/nyoka/index.html\n",
    "  \n",
    "It is important to note that\n",
    "* although there are plenty of commercial products with at least some PMML support\n",
    "* and although large enterprises can (and for support/legal reasons prefer to) pay for a product\n",
    "* the lack of openness and community is leaving commercial-only ML tooling far behind\n",
    "  * e.g., all of the top deep learning tools are FOSS\n",
    "  * this means most of the performance-focused work is tied to the FOSS tools\n",
    "  * scaling is owned by FOSS (kubeflow, Horovod, etc.)\n",
    "  \n",
    "### Let's create a PMML model"
   ]
  },
  {
   "cell_type": "code",
   "execution_count": null,
   "metadata": {},
   "outputs": [],
   "source": [
    "import pandas as pd\n",
    "from sklearn.pipeline import Pipeline\n",
    "from sklearn.linear_model import LinearRegression\n",
    "\n",
    "data = pd.read_csv('data/diamonds.csv')\n",
    "X = data.carat\n",
    "y = data.price\n",
    "pipeline_model = Pipeline([('lin_reg', LinearRegression())]).fit(X.values.reshape(-1,1), y)"
   ]
  },
  {
   "cell_type": "code",
   "execution_count": null,
   "metadata": {},
   "outputs": [],
   "source": [
    "from nyoka import skl_to_pmml\n",
    "\n",
    "skl_to_pmml(pipeline_model, ['carat'], 'price', 'diamonds.pmml')"
   ]
  },
  {
   "cell_type": "code",
   "execution_count": null,
   "metadata": {},
   "outputs": [],
   "source": [
    "! cat diamonds.pmml"
   ]
  },
  {
   "cell_type": "markdown",
   "metadata": {},
   "source": [
    "### How do we run a PMML model?\n",
    "\n",
    "Enterprise-grade permissive OSS support for running PMML models is effectively nonexistent, so we need to architect in tandem with business decisions around a vendor's analytics server product. These business decisions will go beyond the licensing and support, because they will affect all of our enterprise architectures: hardware, network, software, managment/monitoring/operations, reliability/contiuity, compliance etc.\n",
    "\n",
    "The most comprehensive set of tools around PMML is almost certainly JPMML\n",
    "\n",
    "#### JPMML\n",
    "\n",
    "JPMML (https://github.com/jpmml) is a set of AGPL OSS projects that \n",
    "* form the de facto Java implementation of PMML (but also has tools for Python, etc.)\n",
    "* offer interop with key FOSS tools like Apache Spark, R, Scikit-learn, XGBoost, TensorFlow, etc.\n",
    "* provide easy scoring in your own apps, or using a \"scoring wrapper\" or hosted in the cloud\n",
    "* is maintained and licensed in connection with https://openscoring.io/ \n",
    "* *note: there is an older, abandoned, version of JPMML under a more friendly Apache 2.0 license*\n",
    "  * this older version has many features and might be suitable for some organizations with a higher risk/ownership appetite\n",
    "  * https://github.com/jpmml/jpmml"
   ]
  },
  {
   "cell_type": "markdown",
   "metadata": {},
   "source": [
    "#### Pros and Cons: PMML\n",
    "\n",
    "Pros:\n",
    "* In wide use / well-accepted / large community\n",
    "* Core XML dialect can be human readable\n",
    "* Models can be processed/managed by text-based tools (VCS/CMS/etc.)\n",
    "* Covers the majority of modeling cases companies use today\n",
    "* *Formally* interoperable (reading/writing the container file format)\n",
    "\n",
    "Cons:\n",
    "* Support for production models in the open-source world is spotty\n",
    "* Support for consuming models in the OSS is sparse/minimal\n",
    "* Importance of modern open-source tooling has been dragging PMML down\n",
    "* Some modern model types and pipelines are not supported, or not supported efficiently/compactly\n",
    "* *Semantic* interop is limited\n",
    "\n",
    "In practice, PMML -- even with commercial/enterprise, supported products -- is more like USB C than USB 3. \n",
    "\n",
    "I.e., like USB C, it's very versatile in theory, and the plug always fits, but that tells you little or nothing about whether the two devices connected can have any conversation, let alone the specific conversation you need them to have.\n",
    "\n",
    "Despite its imperfections, it has many advantages over single-product formats, so we often use it even if it cannot fulfil a promise of being the \"universal\" tool."
   ]
  },
  {
   "cell_type": "code",
   "execution_count": null,
   "metadata": {},
   "outputs": [],
   "source": []
  }
 ],
 "metadata": {
  "kernelspec": {
   "display_name": "Python 3",
   "language": "python",
   "name": "python3"
  },
  "language_info": {
   "codemirror_mode": {
    "name": "ipython",
    "version": 3
   },
   "file_extension": ".py",
   "mimetype": "text/x-python",
   "name": "python",
   "nbconvert_exporter": "python",
   "pygments_lexer": "ipython3",
   "version": "3.7.4"
  }
 },
 "nbformat": 4,
 "nbformat_minor": 4
}
